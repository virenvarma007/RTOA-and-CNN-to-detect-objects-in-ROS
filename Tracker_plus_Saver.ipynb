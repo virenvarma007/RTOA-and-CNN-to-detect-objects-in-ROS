{
  "nbformat": 4,
  "nbformat_minor": 0,
  "metadata": {
    "colab": {
      "name": "Tracker plus Saver.ipynb",
      "provenance": []
    },
    "kernelspec": {
      "name": "python3",
      "display_name": "Python 3"
    }
  },
  "cells": [
    {
      "cell_type": "code",
      "metadata": {
        "id": "rQcQXyDLmvrd"
      },
      "source": [
        "import cv2\r\n",
        "import os\r\n",
        "import time\r\n",
        "import numpy as np\r\n",
        "import tensorflow as tf\r\n",
        "from tensorflow import keras"
      ],
      "execution_count": null,
      "outputs": []
    },
    {
      "cell_type": "code",
      "metadata": {
        "id": "76wWNAfzePb1"
      },
      "source": [
        "def drawBox(img,bbox):\r\n",
        "    x, y, w, h = int(bbox[0]), int(bbox[1]), int(bbox[2]), int(bbox[3])\r\n",
        "    cv2.rectangle(img, (x, y), ((x + w), (y + h)), (255, 0, 255), 3, 3 )\r\n",
        "    cv2.putText(img, \"Tracking\", (100, 75), cv2.FONT_HERSHEY_SIMPLEX, 0.7, (0, 255, 0), 2)\r\n",
        "\r\n",
        "myPath = 'data/images'\r\n",
        "cameraNo = 0\r\n",
        "cameraBrightness = 180\r\n",
        "moduleVal = 10  # SAVE EVERY ITH FRAME TO AVOID REPETITION\r\n",
        "minBlur = 500  # SMALLER VALUE MEANS MORE BLURRINESS PRESENT\r\n",
        "grayImage = False # IMAGES SAVED COLORED OR GRAY\r\n",
        "saveData = True   # SAVE DATA FLAG\r\n",
        "showImage = True  # IMAGE DISPLAY FLAG\r\n",
        "imgWidth = 224\r\n",
        "imgHeight = 224\r\n",
        "\r\n",
        "val= input('are you satisfied with detection (y/n)?')\r\n",
        "tracker = cv2.TrackerMOSSE_create()\r\n",
        "global countFolder\r\n",
        "cap = cv2.VideoCapture(cameraNo)\r\n",
        "cap.set(3, 640)\r\n",
        "cap.set(4, 480)\r\n",
        "cap.set(10,cameraBrightness)\r\n",
        "\r\n",
        "\r\n",
        "count = 0\r\n",
        "countSave =0\r\n",
        "\r\n",
        "\r\n",
        "def saveDataFunc():\r\n",
        "    global countFolder\r\n",
        "    countFolder = 0\r\n",
        "    while os.path.exists( myPath+ str(countFolder)):\r\n",
        "        countFolder += 1\r\n",
        "    os.makedirs(myPath + str(countFolder))\r\n",
        "\r\n",
        "if saveData:saveDataFunc()\r\n",
        "\r\n",
        "\r\n",
        "if val is 'y':\r\n",
        "    align()\r\n",
        "elif val is 'n':\r\n",
        "    success, frame = cap.read()\r\n",
        "    bbox = cv2.selectROI(\"Tracking\",frame, False)\r\n",
        "    tracker.init(frame, bbox)\r\n",
        "    \r\n",
        "    while True:\r\n",
        "        success, img = cap.read()\r\n",
        "        success, bbox = tracker.update(img)\r\n",
        "        x, y, w, h = int(bbox[0]), int(bbox[1]), int(bbox[2]), int(bbox[3])\r\n",
        "        img_saved=img[x:x+w,y:y+h]\r\n",
        "        cv2.imshow('testing',img_saved)\r\n",
        "        img_saved = cv2.resize(img_saved,(imgWidth,imgHeight))\r\n",
        "        if grayImage:img_saved = cv2.cvtColor(img_saved,cv2.COLOR_BGR2GRAY)\r\n",
        "        if saveData:\r\n",
        "            blur = cv2.Laplacian(img_saved, cv2.CV_64F).var()\r\n",
        "            if count % moduleVal ==0 and blur > minBlur:\r\n",
        "                nowTime = time.time()\r\n",
        "                cv2.imwrite(myPath + str(countFolder) +\r\n",
        "                        '/' + str(countSave)+\"_\"+ str(int(blur))+\"_\"+str(nowTime)+\".png\", img)\r\n",
        "                countSave+=1\r\n",
        "            count += 1\r\n",
        "\r\n",
        "        if showImage:\r\n",
        "            cv2.imshow(\"Image\", img)\r\n",
        "\r\n",
        "        if success:\r\n",
        "            drawBox(img,bbox)\r\n",
        "        else:\r\n",
        "            cv2.putText(img, \"Lost\", (100, 75), cv2.FONT_HERSHEY_SIMPLEX, 0.7, (0, 0, 255), 2)\r\n",
        "            \r\n",
        "        cv2.imshow(\"Tracking\", img)\r\n",
        "        if cv2.waitKey(1) & 0xff == ord('q'):\r\n",
        "            break"
      ],
      "execution_count": null,
      "outputs": []
    }
  ]
}