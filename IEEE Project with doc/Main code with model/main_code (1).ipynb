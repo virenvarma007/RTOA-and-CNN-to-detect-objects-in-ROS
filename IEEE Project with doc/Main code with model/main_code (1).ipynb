{
  "nbformat": 4,
  "nbformat_minor": 0,
  "metadata": {
    "colab": {
      "name": "main code.ipynb",
      "private_outputs": true,
      "provenance": [],
      "collapsed_sections": []
    },
    "kernelspec": {
      "display_name": "Python 3",
      "name": "python3"
    },
    "accelerator": "GPU"
  },
  "cells": [
    {
      "cell_type": "code",
      "metadata": {
        "id": "s-EWn9WbFX4J"
      },
      "source": [
        "#IMPORTING ALL THE NECESSARY LIBRARIES TO THE CODE\r\n",
        "import numpy as np\r\n",
        "import cv2\r\n",
        "import tensorflow as tf\r\n",
        "from tensorflow import keras\r\n",
        "from tensorflow.keras.models import Sequential\r\n",
        "from tensorflow.keras.layers import Activation, Dense, Flatten, BatchNormalization, Conv2D, MaxPool2D, Dropout\r\n",
        "from tensorflow.keras.optimizers import Adam\r\n",
        "from keras.utils.np_utils import to_categorical\r\n",
        "from tensorflow.keras.metrics import categorical_crossentropy\r\n",
        "from tensorflow.keras.preprocessing.image import ImageDataGenerator\r\n",
        "from sklearn.metrics import confusion_matrix\r\n",
        "from sklearn.model_selection import train_test_split\r\n",
        "import itertools\r\n",
        "import os\r\n",
        "import shutil\r\n",
        "import random\r\n",
        "import glob\r\n",
        "import pickle\r\n",
        "import pandas as pd\r\n",
        "import matplotlib.pyplot as plt\r\n",
        "import warnings\r\n",
        "warnings.simplefilter(action='ignore',category=FutureWarning)\r\n",
        "%matplotlib inline"
      ],
      "execution_count": null,
      "outputs": []
    },
    {
      "cell_type": "code",
      "metadata": {
        "id": "4m7x4_W04Qbv"
      },
      "source": [
        "#cONNECTING TO THE DRIVE LINK SO THAT THE DATA CAN BE SAVED ON THE DRIVE AND MODEL BE TRAINED ON THE SERVER END FOR FASTER TRAINING AS THE SERVER PROVIDES A GPU\r\n",
        "from google.colab import drive\r\n",
        "drive.mount('/content/drive')"
      ],
      "execution_count": null,
      "outputs": []
    },
    {
      "cell_type": "code",
      "metadata": {
        "id": "jNVY70UDtJof"
      },
      "source": [
        "train_path='/content/drive/MyDrive/data/train'\r\n",
        "test_path='/content/drive/MyDrive/data/test'\r\n",
        "valid_path='/content/drive/MyDrive/data/validation'"
      ],
      "execution_count": null,
      "outputs": []
    },
    {
      "cell_type": "markdown",
      "metadata": {
        "id": "vJv1ZB5hzXPy"
      },
      "source": [
        "# New section"
      ]
    },
    {
      "cell_type": "code",
      "metadata": {
        "id": "K6L-k2pttPdh"
      },
      "source": [
        "#AUGMENTING DATA TO CREATE A BETTER DATA SET\r\n",
        "train_batches=ImageDataGenerator().flow_from_directory(train_path, target_size=(224,224), classes=['0','1','2','3'], batch_size=10)\r\n",
        "test_batches=ImageDataGenerator().flow_from_directory(test_path, target_size=(224,224), classes=['0','1','2','3'], batch_size=10)\r\n",
        "valid_batches=ImageDataGenerator().flow_from_directory(valid_path, target_size=(224,224), classes=['0','1','2','3'], batch_size=10)"
      ],
      "execution_count": null,
      "outputs": []
    },
    {
      "cell_type": "code",
      "metadata": {
        "id": "RvjUMtZ64MJ8"
      },
      "source": [
        "#CREATING A FUNCTION TO PLOT DATA AND CALLING IT\r\n",
        "def plots(ims, figsize=(12,6), rows=1, interp=False, titles=None):\r\n",
        "    if type(ims[0]) is np.ndarray:\r\n",
        "        ims = np.array(ims).astype(np.uint8)\r\n",
        "        if (ims.shape[-1] != 3):\r\n",
        "            ims = ims.transpose((0,2,3,1))\r\n",
        "    f = plt.figure(figsize=figsize)\r\n",
        "    cols = len(ims)//rows if len(ims) % 2 == 0 else len(ims)//rows + 1\r\n",
        "    for i in range(len(ims)):\r\n",
        "        sp = f.add_subplot(rows, cols, i+1)\r\n",
        "        sp.axis('Off')\r\n",
        "        if titles is not None:\r\n",
        "            sp.set_title(titles[i], fontsize=16)\r\n",
        "        plt.imshow(ims[i], interpolation=None if interp else 'none')\r\n",
        "        \r\n",
        "\r\n",
        "imgs, labels = next(train_batches)\r\n",
        "plots(imgs, titles=labels)\r\n",
        "print(imgs.shape,'\\n')"
      ],
      "execution_count": null,
      "outputs": []
    },
    {
      "cell_type": "code",
      "metadata": {
        "id": "jexN3SW4OMhi"
      },
      "source": [
        "batch_size_val=50\r\n",
        "steps_per_epoch_val=2000\r\n",
        "epochs_val=30\r\n",
        "\r\n",
        "def myModel():\r\n",
        "    no_of_Filters=60\r\n",
        "    size_of_Filter=(5,5)\r\n",
        "    size_of_Filter2=(3,3)\r\n",
        "    size_of_pool=(2,2)\r\n",
        "    no_of_Nodes=500\r\n",
        "    model=Sequential()\r\n",
        "    model.add((Conv2D(no_of_Filters,size_of_Filter,input_shape=(224,224,3),activation='relu')))\r\n",
        "    model.add((Conv2D(no_of_Filters,size_of_Filter,activation='relu')))\r\n",
        "    model.add(MaxPool2D(pool_size=size_of_pool))\r\n",
        "    \r\n",
        "    model.add((Conv2D(no_of_Filters,size_of_Filter2,activation='relu')))\r\n",
        "    model.add((Conv2D(no_of_Filters,size_of_Filter2,activation='relu')))\r\n",
        "    model.add(MaxPool2D(pool_size=size_of_pool))\r\n",
        "    model.add(Dropout(0.5))\r\n",
        "    \r\n",
        "    model.add(Flatten())\r\n",
        "    model.add(Dense(no_of_Nodes,activation='relu'))\r\n",
        "    model.add(Dropout(0.5))\r\n",
        "    model.add(Dense(4,activation='softmax'))\r\n",
        "        \r\n",
        "    model.compile(optimizer=Adam(lr=0.0001), loss='categorical_crossentropy',metrics=['accuracy'])\r\n",
        "    return model"
      ],
      "execution_count": null,
      "outputs": []
    },
    {
      "cell_type": "code",
      "metadata": {
        "id": "pPcapAqvOUII"
      },
      "source": [
        "tb_callback = tf.keras.callbacks.TensorBoard(log_dir=\"logs/\", histogram_freq=1)\r\n",
        "model=myModel()\r\n",
        "model.summary()\r\n",
        "history=model.fit_generator(train_batches, steps_per_epoch=30, validation_data=valid_batches, validation_steps=4, epochs=5, verbose=1,callbacks=[tb_callback])"
      ],
      "execution_count": null,
      "outputs": []
    },
    {
      "cell_type": "code",
      "metadata": {
        "id": "aJ0MBUDuZadt"
      },
      "source": [
        "%reload_ext tensorboard\r\n",
        "%tensorboard --logdir logs/"
      ],
      "execution_count": null,
      "outputs": []
    },
    {
      "cell_type": "code",
      "metadata": {
        "id": "F_4oOHHXWJPS"
      },
      "source": [
        "test_imgs, test_labels = next(test_batches)\r\n",
        "plots(test_imgs, titles=test_labels)"
      ],
      "execution_count": null,
      "outputs": []
    },
    {
      "cell_type": "code",
      "metadata": {
        "id": "qbz5kiKkWvUa"
      },
      "source": [
        "predictions = model.predict(test_batches, steps=1, verbose=0)\r\n",
        "predictions"
      ],
      "execution_count": null,
      "outputs": []
    },
    {
      "cell_type": "code",
      "metadata": {
        "id": "9pURU4mDX_AP"
      },
      "source": [
        "import os.path\r\n",
        "if os.path.isfile('/content/drive/MyDrive/models/CNN for RTOA.h5') is False:\r\n",
        "  model.save('/content/drive/MyDrive/models/CNN for RTOA.h5')"
      ],
      "execution_count": null,
      "outputs": []
    }
  ]
}