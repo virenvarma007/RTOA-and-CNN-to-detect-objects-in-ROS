{
 "cells": [
  {
   "cell_type": "code",
   "execution_count": 2,
   "metadata": {},
   "outputs": [
    {
     "name": "stderr",
     "output_type": "stream",
     "text": [
      "Using TensorFlow backend.\n"
     ]
    }
   ],
   "source": [
    "import numpy as np\n",
    "import cv2\n",
    "import tensorflow as tf\n",
    "from tensorflow import keras\n",
    "from tensorflow.keras.models import Sequential\n",
    "from tensorflow.keras.layers import Activation, Dense, Flatten, BatchNormalization, Conv2D, MaxPool2D, Dropout\n",
    "from tensorflow.keras.optimizers import Adam\n",
    "from keras.utils.np_utils import to_categorical\n",
    "from tensorflow.keras.metrics import categorical_crossentropy\n",
    "from tensorflow.keras.preprocessing.image import ImageDataGenerator\n",
    "from sklearn.metrics import confusion_matrix\n",
    "from sklearn.model_selection import train_test_split\n",
    "import itertools\n",
    "import os\n",
    "import shutil\n",
    "import random\n",
    "import glob\n",
    "import pickle\n",
    "import pandas as pd\n",
    "import matplotlib.pyplot as plt\n",
    "import warnings\n",
    "warnings.simplefilter(action='ignore',category=FutureWarning)\n",
    "%matplotlib inline"
   ]
  },
  {
   "cell_type": "code",
   "execution_count": 3,
   "metadata": {},
   "outputs": [],
   "source": [
    "path= 'mydata'\n",
    "labelfile= 'labels.csv'\n",
    "batch_size_val=50\n",
    "steps_per_epoch_val=2000\n",
    "epochs_val=10\n",
    "imageDimensions=(224,224,3)\n",
    "testRatio=0.2\n",
    "validationRatio=0.2"
   ]
  },
  {
   "cell_type": "code",
   "execution_count": 4,
   "metadata": {},
   "outputs": [
    {
     "name": "stdout",
     "output_type": "stream",
     "text": [
      "total classes detected: 4\n",
      "Importing classes\n",
      "0  \n",
      "1  \n",
      "2  \n",
      "3  \n",
      " \n"
     ]
    }
   ],
   "source": [
    "count=0\n",
    "images=[]\n",
    "classNo=[]\n",
    "myList= os.listdir(path)\n",
    "print(\"total classes detected:\",len(myList))\n",
    "noOfclasses=len(myList)\n",
    "print('Importing classes')\n",
    "for x in range(0,noOfclasses):\n",
    "    myPickList= os.listdir(path+'/'+str(count))\n",
    "    for y in myPickList:\n",
    "        curImg=cv2.imread(path+'/'+str(count)+'/'+y)\n",
    "        images.append(curImg)\n",
    "        classNo.append(count)\n",
    "    print(count,\" \")\n",
    "    count+=1\n",
    "print(\" \")\n",
    "images=np.array(images)\n",
    "classNo=np.array(classNo)"
   ]
  },
  {
   "cell_type": "code",
   "execution_count": 5,
   "metadata": {},
   "outputs": [],
   "source": [
    "x_train, x_test, y_train, y_test= train_test_split(images,classNo,test_size=testRatio)\n",
    "x_train, x_validation, y_train, y_validation= train_test_split(images,classNo,test_size=validationRatio)"
   ]
  },
  {
   "cell_type": "code",
   "execution_count": 7,
   "metadata": {},
   "outputs": [
    {
     "name": "stdout",
     "output_type": "stream",
     "text": [
      "data shape (3, 2) <class 'pandas.core.frame.DataFrame'>\n"
     ]
    }
   ],
   "source": [
    "data=pd.read_csv(labelfile)\n",
    "print(\"data shape\",data.shape,type(data))"
   ]
  },
  {
   "cell_type": "code",
   "execution_count": null,
   "metadata": {},
   "outputs": [],
   "source": [
    "def plots(ims, figsize=(12,6), rows=1, interp=False, titles=None):\n",
    "    if type(ims[0]) is np.ndarray:\n",
    "        ims = np.array(ims).astype(np.uint8)\n",
    "        if (ims.shape[-1] != 3):\n",
    "            ims = ims.transpose((0,2,3,1))\n",
    "    f = plt.figure(figsize=figsize)\n",
    "    cols = len(ims)//rows if len(ims) % 2 == 0 else len(ims)//rows + 1\n",
    "    for i in range(len(ims)):\n",
    "        sp = f.add_subplot(rows, cols, i+1)\n",
    "        sp.axis('Off')\n",
    "        if titles is not None:\n",
    "            sp.set_title(titles[i], fontsize=16)\n",
    "        plt.imshow(ims[i], interpolation=None if interp else 'none')\n",
    "        \n",
    "\n",
    "plots(images, titles=classNo)\n",
    "print(images.shape,'\\n')"
   ]
  },
  {
   "cell_type": "code",
   "execution_count": null,
   "metadata": {},
   "outputs": [],
   "source": [
    "def preprocessing(img):  \n",
    "    img = cv2.equalizeHist(img) \n",
    "    img = img / 255\n",
    "    return img \n",
    "  \n",
    "x_train = np.array(list(map(preprocessing, x_train))) \n",
    "x_validation = np.array(list(map(preprocessing, x_validation))) \n",
    "x_test = np.array(list(map(preprocessing, x_test))) \n",
    "  \n",
    "x_train = x_train.reshape(34799, 32, 32, 1) \n",
    "x_validation = x_validation.reshape(4410, 32, 32, 1) \n",
    "x_test = x_test.reshape(12630, 32, 32, 1)"
   ]
  }
 ],
 "metadata": {
  "kernelspec": {
   "display_name": "Python 3",
   "language": "python",
   "name": "python3"
  },
  "language_info": {
   "codemirror_mode": {
    "name": "ipython",
    "version": 3
   },
   "file_extension": ".py",
   "mimetype": "text/x-python",
   "name": "python",
   "nbconvert_exporter": "python",
   "pygments_lexer": "ipython3",
   "version": "3.5.6"
  }
 },
 "nbformat": 4,
 "nbformat_minor": 4
}
